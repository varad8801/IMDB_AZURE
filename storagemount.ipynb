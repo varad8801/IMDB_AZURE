{
 "cells": [
  {
   "cell_type": "code",
   "execution_count": 0,
   "metadata": {
    "application/vnd.databricks.v1+cell": {
     "cellMetadata": {
      "byteLimit": 2048000,
      "rowLimit": 10000
     },
     "inputWidgets": {},
     "nuid": "68e7cf06-a8e7-45c9-aa9d-923165ce2008",
     "showTitle": false,
     "title": ""
    }
   },
   "outputs": [
    {
     "output_type": "stream",
     "name": "stdout",
     "output_type": "stream",
     "text": [
      "Directory is already mounted.\n"
     ]
    }
   ],
   "source": [
    "configs = {\n",
    "  \"fs.azure.account.auth.type\": \"CustomAccessToken\",\n",
    "  \"fs.azure.account.custom.token.provider.class\": spark.conf.get(\"spark.databricks.passthrough.adls.gen2.tokenProviderClassName\")\n",
    "}\n",
    "\n",
    "source_uri = \"abfss://bronze@datalprj.dfs.core.windows.net/\"\n",
    "mount_point = \"/mnt/bronze\"\n",
    "\n",
    "# Attempt to mount the source URI to the mount point\n",
    "try:\n",
    "    dbutils.fs.mount(\n",
    "        source=source_uri,\n",
    "        mount_point=mount_point,\n",
    "        extra_configs=configs\n",
    "    )\n",
    "    print(\"Mount successful!\")\n",
    "except Exception as e:\n",
    "      print(\"Directory is already mounted.\")\n",
    "    \n",
    "  "
   ]
  },
  {
   "cell_type": "code",
   "execution_count": 0,
   "metadata": {
    "application/vnd.databricks.v1+cell": {
     "cellMetadata": {
      "byteLimit": 2048000,
      "rowLimit": 10000
     },
     "inputWidgets": {},
     "nuid": "a2be49cc-6a49-46ed-baae-b8d53b6f0797",
     "showTitle": false,
     "title": ""
    }
   },
   "outputs": [
    {
     "output_type": "stream",
     "name": "stdout",
     "output_type": "stream",
     "text": [
      "Directory is already mounted.\n"
     ]
    }
   ],
   "source": [
    "configs = {\n",
    "  \"fs.azure.account.auth.type\": \"CustomAccessToken\",\n",
    "  \"fs.azure.account.custom.token.provider.class\": spark.conf.get(\"spark.databricks.passthrough.adls.gen2.tokenProviderClassName\")\n",
    "}\n",
    "\n",
    "source_uri = \"abfss://silver@datalprj.dfs.core.windows.net/\"\n",
    "mount_point = \"/mnt/silver\"\n",
    "\n",
    "# Attempt to mount the source URI to the mount point\n",
    "try:\n",
    "    dbutils.fs.mount(\n",
    "        source=source_uri,\n",
    "        mount_point=mount_point,\n",
    "        extra_configs=configs\n",
    "    )\n",
    "    print(\"Mount successful!\")\n",
    "except Exception as e:\n",
    "      print(\"Directory is already mounted.\")\n",
    "    \n",
    "  "
   ]
  },
  {
   "cell_type": "code",
   "execution_count": 0,
   "metadata": {
    "application/vnd.databricks.v1+cell": {
     "cellMetadata": {
      "byteLimit": 2048000,
      "rowLimit": 10000
     },
     "inputWidgets": {},
     "nuid": "c6d11b85-eb19-4291-a4e5-ec3e34690ef5",
     "showTitle": false,
     "title": ""
    }
   },
   "outputs": [
    {
     "output_type": "stream",
     "name": "stdout",
     "output_type": "stream",
     "text": [
      "Directory is already mounted.\n"
     ]
    }
   ],
   "source": [
    "configs = {\n",
    "  \"fs.azure.account.auth.type\": \"CustomAccessToken\",\n",
    "  \"fs.azure.account.custom.token.provider.class\": spark.conf.get(\"spark.databricks.passthrough.adls.gen2.tokenProviderClassName\")\n",
    "}\n",
    "\n",
    "source_uri = \"abfss://gold@datalprj.dfs.core.windows.net/\"\n",
    "mount_point = \"/mnt/gold\"\n",
    "\n",
    "# Attempt to mount the source URI to the mount point\n",
    "try:\n",
    "    dbutils.fs.mount(\n",
    "        source=source_uri,\n",
    "        mount_point=mount_point,\n",
    "        extra_configs=configs\n",
    "    )\n",
    "    print(\"Mount successful!\")\n",
    "except Exception as e:\n",
    "      print(\"Directory is already mounted.\")\n",
    "    \n",
    "  "
   ]
  }
 ],
 "metadata": {
  "application/vnd.databricks.v1+notebook": {
   "dashboards": [],
   "language": "python",
   "notebookMetadata": {
    "pythonIndentUnit": 4
   },
   "notebookName": "storagemount",
   "widgets": {}
  }
 },
 "nbformat": 4,
 "nbformat_minor": 0
}
